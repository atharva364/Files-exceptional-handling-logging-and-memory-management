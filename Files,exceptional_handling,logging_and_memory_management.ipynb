{
  "nbformat": 4,
  "nbformat_minor": 0,
  "metadata": {
    "colab": {
      "provenance": []
    },
    "kernelspec": {
      "name": "python3",
      "display_name": "Python 3"
    },
    "language_info": {
      "name": "python"
    }
  },
  "cells": [
    {
      "cell_type": "markdown",
      "source": [
        "# Files,exceptional handling,logging and memory management"
      ],
      "metadata": {
        "id": "FgIPU1BGoXmR"
      }
    },
    {
      "cell_type": "markdown",
      "source": [
        "# 1.How can you open a file for writing in Python and write a string to it?"
      ],
      "metadata": {
        "id": "Udq8mrweSlYp"
      }
    },
    {
      "cell_type": "code",
      "source": [
        "# Open the file in write mode\n",
        "file = open(\"myfile.txt\", \"w\")\n",
        "\n",
        "# Write a string to the file\n",
        "file.write(\"This is a line of text.\")\n",
        "\n",
        "# Close the file\n",
        "file.close()\n"
      ],
      "metadata": {
        "id": "pAX_71jMSupI"
      },
      "execution_count": 24,
      "outputs": []
    },
    {
      "cell_type": "markdown",
      "source": [
        "# 2.Write a Python program to read the contents of a file and print each line?\n"
      ],
      "metadata": {
        "id": "A4wxY4GdVEwR"
      }
    },
    {
      "cell_type": "code",
      "source": [
        "# Open the file in read mode\n",
        "with open(\"myfile.txt\", \"r\") as file:\n",
        "    # Loop through each line in the file\n",
        "    for line in file:\n",
        "        # Print the line (with .strip() to remove the trailing newline)\n",
        "        print(line.strip())\n"
      ],
      "metadata": {
        "colab": {
          "base_uri": "https://localhost:8080/"
        },
        "id": "ODlSAGUbVRDU",
        "outputId": "99e6c05a-0766-4383-a3fc-2bcaf14a6adf"
      },
      "execution_count": 25,
      "outputs": [
        {
          "output_type": "stream",
          "name": "stdout",
          "text": [
            "This is a line of text.\n"
          ]
        }
      ]
    },
    {
      "cell_type": "markdown",
      "source": [
        "# 3.How would you handle a case where the file doesn't exist while trying to open it for reading?"
      ],
      "metadata": {
        "id": "ZJlhpj98VYTH"
      }
    },
    {
      "cell_type": "code",
      "source": [
        "try:\n",
        "    with open(\"myfile.txt\", \"r\") as file:\n",
        "        for line in file:\n",
        "            print(line.strip())\n",
        "except FileNotFoundError:\n",
        "    print(\"Error: The file 'myfile.txt' does not exist.\")\n"
      ],
      "metadata": {
        "colab": {
          "base_uri": "https://localhost:8080/"
        },
        "id": "goWzSYQGVhWg",
        "outputId": "6a83228b-2828-46a5-a0b1-c20ea62072fc"
      },
      "execution_count": 27,
      "outputs": [
        {
          "output_type": "stream",
          "name": "stdout",
          "text": [
            "This is a line of text.\n"
          ]
        }
      ]
    },
    {
      "cell_type": "markdown",
      "source": [
        "# 4.Write a Python script that reads from one file and writes its content to another file?"
      ],
      "metadata": {
        "id": "0_lZMwgJVptt"
      }
    },
    {
      "cell_type": "code",
      "source": [
        "# Define source and destination file names\n",
        "source_file = \"source.txt\"\n",
        "destination_file = \"destination.txt\"\n",
        "\n",
        "try:\n",
        "    # Open the source file in read mode\n",
        "    with open(source_file, \"r\") as src:\n",
        "        # Open the destination file in write mode\n",
        "        with open(destination_file, \"w\") as dest:\n",
        "            # Read from source and write to destination\n",
        "            for line in src:\n",
        "                dest.write(line)\n",
        "\n",
        "    print(f\"Contents copied from '{source_file}' to '{destination_file}' successfully.\")\n",
        "\n",
        "except FileNotFoundError:\n",
        "    print(f\"Error: The file '{source_file}' does not exist.\")\n"
      ],
      "metadata": {
        "colab": {
          "base_uri": "https://localhost:8080/"
        },
        "id": "ACxqHKKzVvBg",
        "outputId": "fced4dfd-6bb2-46cb-c1fe-6d749500e62d"
      },
      "execution_count": 29,
      "outputs": [
        {
          "output_type": "stream",
          "name": "stdout",
          "text": [
            "Error: The file 'source.txt' does not exist.\n"
          ]
        }
      ]
    },
    {
      "cell_type": "markdown",
      "source": [
        "# 5.How would you catch and handle division by zero error in Python?"
      ],
      "metadata": {
        "id": "r8d-GL1vV3Jt"
      }
    },
    {
      "cell_type": "code",
      "source": [
        "try:\n",
        "    numerator = 10\n",
        "    denominator = 0\n",
        "    result = numerator / denominator\n",
        "    print(\"Result:\", result)\n",
        "\n",
        "except ZeroDivisionError:\n",
        "    print(\"Error: Division by zero is not allowed.\")\n"
      ],
      "metadata": {
        "colab": {
          "base_uri": "https://localhost:8080/"
        },
        "id": "bpauRy7fV_v3",
        "outputId": "1dae6ebe-d359-4235-ee59-35e04255d512"
      },
      "execution_count": 30,
      "outputs": [
        {
          "output_type": "stream",
          "name": "stdout",
          "text": [
            "Error: Division by zero is not allowed.\n"
          ]
        }
      ]
    },
    {
      "cell_type": "markdown",
      "source": [
        "# 6.Write a Python program that logs an error message to a log file when a division by zero exception occurs?"
      ],
      "metadata": {
        "id": "o7aDGGwTWGgO"
      }
    },
    {
      "cell_type": "code",
      "source": [
        "import logging\n",
        "\n",
        "logging.basicConfig(\n",
        "    filename='error_log.txt',\n",
        "    level=logging.ERROR,\n",
        "    format='%(asctime)s - %(levelname)s - %(message)s'\n",
        ")\n",
        "\n",
        "try:\n",
        "    numerator = 10\n",
        "    denominator = 0\n",
        "    result = numerator / denominator\n",
        "\n",
        "except ZeroDivisionError as e:\n",
        "    logging.error(\"Attempted to divide by zero: %s\", e)\n",
        "    print(\"An error occurred. Check the log file for details.\")\n"
      ],
      "metadata": {
        "colab": {
          "base_uri": "https://localhost:8080/"
        },
        "id": "5n73ueSsWMB5",
        "outputId": "bdf35547-71cc-4c63-e071-fd07d83ccdd5"
      },
      "execution_count": 32,
      "outputs": [
        {
          "output_type": "stream",
          "name": "stderr",
          "text": [
            "ERROR:root:Attempted to divide by zero: division by zero\n"
          ]
        },
        {
          "output_type": "stream",
          "name": "stdout",
          "text": [
            "An error occurred. Check the log file for details.\n"
          ]
        }
      ]
    },
    {
      "cell_type": "markdown",
      "source": [
        "# 7.How do you log information at different levels (INFO, ERROR, WARNING) in Python using the logging module?"
      ],
      "metadata": {
        "id": "eyzAe0bDWWmQ"
      }
    },
    {
      "cell_type": "code",
      "source": [
        "import logging\n",
        "\n",
        "logging.basicConfig(\n",
        "    filename='app_log.txt',\n",
        "    level=logging.DEBUG,\n",
        "    format='%(asctime)s - %(levelname)s - %(message)s'\n",
        ")\n",
        "\n",
        "\n",
        "logging.info(\"This is an info message.\")\n",
        "logging.warning(\"This is a warning message.\")\n",
        "logging.error(\"This is an error message.\")\n"
      ],
      "metadata": {
        "colab": {
          "base_uri": "https://localhost:8080/"
        },
        "id": "Xw0Gdql4Wfrb",
        "outputId": "f029cd64-c8b5-495a-cf43-235a385751a5"
      },
      "execution_count": 33,
      "outputs": [
        {
          "output_type": "stream",
          "name": "stderr",
          "text": [
            "WARNING:root:This is a warning message.\n",
            "ERROR:root:This is an error message.\n"
          ]
        }
      ]
    },
    {
      "cell_type": "markdown",
      "source": [
        "# 8.Write a program to handle a file opening error using exception handling?"
      ],
      "metadata": {
        "id": "abREXcelWvRn"
      }
    },
    {
      "cell_type": "code",
      "source": [
        "filename = \"nonexistent_file.txt\"\n",
        "\n",
        "try:\n",
        "    with open(filename, \"r\") as file:\n",
        "        contents = file.read()\n",
        "        print(contents)\n",
        "\n",
        "except FileNotFoundError:\n",
        "    print(f\"Error: The file '{filename}' was not found.\")\n",
        "\n",
        "except PermissionError:\n",
        "    print(f\"Error: You don't have permission to open '{filename}'.\")\n",
        "\n",
        "except Exception as e:\n",
        "    print(f\"An unexpected error occurred: {e}\")\n"
      ],
      "metadata": {
        "colab": {
          "base_uri": "https://localhost:8080/"
        },
        "id": "KBAmvw2IW1b3",
        "outputId": "c2d8cfc4-7749-4737-d91b-7a3878b0dd7d"
      },
      "execution_count": 35,
      "outputs": [
        {
          "output_type": "stream",
          "name": "stdout",
          "text": [
            "Error: The file 'nonexistent_file.txt' was not found.\n"
          ]
        }
      ]
    },
    {
      "cell_type": "markdown",
      "source": [
        "# 9. How can you read a file line by line and store its content in a list in Python?"
      ],
      "metadata": {
        "id": "trUu7mFBXCmw"
      }
    },
    {
      "cell_type": "code",
      "source": [
        "with open(\"myfile.txt\", \"r\") as file:\n",
        "\n",
        "    lines = file.readlines()\n",
        "\n",
        "lines = [line.strip() for line in lines]\n",
        "\n",
        "print(lines)\n"
      ],
      "metadata": {
        "colab": {
          "base_uri": "https://localhost:8080/"
        },
        "id": "ZgxMLH6tXKn6",
        "outputId": "e077c87c-ec5a-484b-b871-9686084f68b0"
      },
      "execution_count": 37,
      "outputs": [
        {
          "output_type": "stream",
          "name": "stdout",
          "text": [
            "['This is a line of text.']\n"
          ]
        }
      ]
    },
    {
      "cell_type": "markdown",
      "source": [
        "# 10.How can you append data to an existing file in Python?"
      ],
      "metadata": {
        "id": "SUZ51MqvXf54"
      }
    },
    {
      "cell_type": "code",
      "source": [
        "with open(\"my_file.txt\", \"a\") as file:\n",
        "    file.write(\"This is appended text.\\n\")\n",
        "    file.write(\"Another line of appended text.\\n\")\n"
      ],
      "metadata": {
        "id": "lYBU-a7gXlS8"
      },
      "execution_count": 54,
      "outputs": []
    },
    {
      "cell_type": "markdown",
      "source": [
        "# 11.Write a Python program that uses a try-except block to handle an error when attempting to access a dictionary key that doesn't exist."
      ],
      "metadata": {
        "id": "U67hqj_lYpnG"
      }
    },
    {
      "cell_type": "code",
      "source": [
        "my_dict = {'name': 'Alice', 'age': 30}\n",
        "\n",
        "key_to_access = 'address'\n",
        "\n",
        "try:\n",
        "\n",
        "    value = my_dict[key_to_access]\n",
        "    print(f\"The value of '{key_to_access}' is: {value}\")\n",
        "\n",
        "except KeyError:\n",
        "\n",
        "    print(f\"Error: The key '{key_to_access}' does not exist in the dictionary.\")"
      ],
      "metadata": {
        "colab": {
          "base_uri": "https://localhost:8080/"
        },
        "id": "CAuRIMPGYzDM",
        "outputId": "716ac990-6dce-4baa-d041-4a27e4be3cb1"
      },
      "execution_count": 55,
      "outputs": [
        {
          "output_type": "stream",
          "name": "stdout",
          "text": [
            "Error: The key 'address' does not exist in the dictionary.\n"
          ]
        }
      ]
    },
    {
      "cell_type": "markdown",
      "source": [
        "# 12. Write a program that demonstrates using multiple except blocks to handle different types of exceptions?"
      ],
      "metadata": {
        "id": "mkfahDAoZIf5"
      }
    },
    {
      "cell_type": "code",
      "source": [
        "try:\n",
        "\n",
        "    num = int(input(\"Enter a number: \"))\n",
        "\n",
        "\n",
        "    result = 10 / num\n",
        "    print(f\"Result: {result}\")\n",
        "\n",
        "    with open(\"non_existent_file.txt\", \"r\") as file:\n",
        "        content = file.read()\n",
        "\n",
        "except ValueError:\n",
        "    print(\"Error: Invalid input! Please enter a valid number.\")\n",
        "\n",
        "except ZeroDivisionError:\n",
        "    print(\"Error: Division by zero is not allowed!\")\n",
        "\n",
        "except FileNotFoundError:\n",
        "    print(\"Error: The file you are trying to open does not exist.\")\n",
        "\n",
        "except Exception as e:\n",
        "\n",
        "    print(f\"An unexpected error occurred: {e}\")\n"
      ],
      "metadata": {
        "colab": {
          "base_uri": "https://localhost:8080/"
        },
        "id": "DHwl_0tiZPP7",
        "outputId": "a0385ffd-fd9b-4825-fa3a-c24f0fb3a618"
      },
      "execution_count": 57,
      "outputs": [
        {
          "output_type": "stream",
          "name": "stdout",
          "text": [
            "Enter a number: 30\n",
            "Result: 0.3333333333333333\n",
            "Error: The file you are trying to open does not exist.\n"
          ]
        }
      ]
    },
    {
      "cell_type": "markdown",
      "source": [
        "# 13. How would you check if a file exists before attempting to read it in Python?"
      ],
      "metadata": {
        "id": "m4FQpI_qZ2yY"
      }
    },
    {
      "cell_type": "markdown",
      "source": [
        "# using os.path.exists():"
      ],
      "metadata": {
        "id": "PQeL-ZT3aUsO"
      }
    },
    {
      "cell_type": "code",
      "source": [
        "import os\n",
        "\n",
        "filename = \"myfile.txt\"\n",
        "\n",
        "# Check if the file exists\n",
        "if os.path.exists(filename):\n",
        "    with open(filename, \"r\") as file:\n",
        "        contents = file.read()\n",
        "        print(contents)\n",
        "else:\n",
        "    print(f\"The file '{filename}' does not exist.\")\n"
      ],
      "metadata": {
        "colab": {
          "base_uri": "https://localhost:8080/"
        },
        "id": "BPFC6P_paeOL",
        "outputId": "7cd5f648-6acd-4f54-fa13-d83765813f1f"
      },
      "execution_count": 58,
      "outputs": [
        {
          "output_type": "stream",
          "name": "stdout",
          "text": [
            "This is a line of text.This is a new line of text.\n",
            "This is a new line of text.\n",
            "This is a new line of text.\n",
            "This is a new line of text.\n",
            "This is a new line of text.\n",
            "Line 1\n",
            "Line 2\n",
            "Line 3\n",
            "This is a new line of text.\n",
            "Line 1\n",
            "Line 2\n",
            "Line 3\n",
            "This is a new line of text.\n",
            "Line 1\n",
            "Line 2\n",
            "Line 3\n",
            "Line 1\n",
            "Line 2\n",
            "Line 3\n",
            "Line 1\n",
            "Line 2\n",
            "Line 3\n",
            "Line 1\n",
            "Line 2\n",
            "Line 3\n",
            "First appended line.\n",
            "Second appended line.\n",
            "First appended line.\n",
            "Second appended line.\n",
            "This is a new line of text.\n",
            "This is a new line of text.\n",
            "This is a new line of text.\n",
            "\n"
          ]
        }
      ]
    },
    {
      "cell_type": "markdown",
      "source": [
        "# pathlib.Path.exists():"
      ],
      "metadata": {
        "id": "Lmn6F5LraiqF"
      }
    },
    {
      "cell_type": "code",
      "source": [
        "from pathlib import Path\n",
        "\n",
        "filename = \"myfile.txt\"\n",
        "file_path = Path(filename)\n",
        "\n",
        "# Check if the file exists\n",
        "if file_path.exists():\n",
        "    with open(filename, \"r\") as file:\n",
        "        contents = file.read()\n",
        "        print(contents)\n",
        "else:\n",
        "    print(f\"The file '{filename}' does not exist.\")\n"
      ],
      "metadata": {
        "colab": {
          "base_uri": "https://localhost:8080/"
        },
        "id": "-2ZRJZOXavDu",
        "outputId": "9f0ee4fa-68d0-4b22-ba29-ac289f553b7e"
      },
      "execution_count": 59,
      "outputs": [
        {
          "output_type": "stream",
          "name": "stdout",
          "text": [
            "This is a line of text.This is a new line of text.\n",
            "This is a new line of text.\n",
            "This is a new line of text.\n",
            "This is a new line of text.\n",
            "This is a new line of text.\n",
            "Line 1\n",
            "Line 2\n",
            "Line 3\n",
            "This is a new line of text.\n",
            "Line 1\n",
            "Line 2\n",
            "Line 3\n",
            "This is a new line of text.\n",
            "Line 1\n",
            "Line 2\n",
            "Line 3\n",
            "Line 1\n",
            "Line 2\n",
            "Line 3\n",
            "Line 1\n",
            "Line 2\n",
            "Line 3\n",
            "Line 1\n",
            "Line 2\n",
            "Line 3\n",
            "First appended line.\n",
            "Second appended line.\n",
            "First appended line.\n",
            "Second appended line.\n",
            "This is a new line of text.\n",
            "This is a new line of text.\n",
            "This is a new line of text.\n",
            "\n"
          ]
        }
      ]
    },
    {
      "cell_type": "markdown",
      "source": [
        "# 14.Write a program that uses the logging module to log both informational and error messages"
      ],
      "metadata": {
        "id": "o683_yACazph"
      }
    },
    {
      "cell_type": "code",
      "source": [
        "import logging\n",
        "\n",
        "logging.basicConfig(\n",
        "    filename='app_log.txt',\n",
        "    level=logging.DEBUG,\n",
        "    format='%(asctime)s - %(levelname)s - %(message)s'\n",
        ")\n",
        "\n",
        "\n",
        "logging.info(\"This is an informational message.\")\n",
        "\n",
        "\n",
        "logging.error(\"This is an error message.\")\n",
        "\n",
        "\n",
        "try:\n",
        "    result = 10 / 0\n",
        "except ZeroDivisionError as e:\n",
        "    logging.error(\"Error occurred: %s\", e)\n"
      ],
      "metadata": {
        "colab": {
          "base_uri": "https://localhost:8080/"
        },
        "id": "eyjcYCWNa6ej",
        "outputId": "08fae0f6-a362-425e-e13f-a1f0c5e948ec"
      },
      "execution_count": 61,
      "outputs": [
        {
          "output_type": "stream",
          "name": "stderr",
          "text": [
            "ERROR:root:This is an error message.\n",
            "ERROR:root:Error occurred: division by zero\n"
          ]
        }
      ]
    },
    {
      "cell_type": "markdown",
      "source": [
        "# 15.Write a Python program that prints the content of a file and handles the case when the file is empty"
      ],
      "metadata": {
        "id": "pxnN7SWlbQpg"
      }
    },
    {
      "cell_type": "code",
      "source": [
        "filename = \"myfile.txt\"\n",
        "\n",
        "try:\n",
        "    with open(filename, \"r\") as file:\n",
        "        content = file.read()\n",
        "\n",
        "        if content:\n",
        "            print(\"File contents:\")\n",
        "            print(content)\n",
        "        else:\n",
        "            print(f\"The file '{filename}' is empty.\")\n",
        "except FileNotFoundError:\n",
        "    print(f\"Error: The file '{filename}' does not exist.\")\n"
      ],
      "metadata": {
        "colab": {
          "base_uri": "https://localhost:8080/"
        },
        "id": "oq2lcklqbW0J",
        "outputId": "562bd2b8-2d12-4bcc-9e27-6f989c9f74d1"
      },
      "execution_count": 62,
      "outputs": [
        {
          "output_type": "stream",
          "name": "stdout",
          "text": [
            "File contents:\n",
            "This is a line of text.This is a new line of text.\n",
            "This is a new line of text.\n",
            "This is a new line of text.\n",
            "This is a new line of text.\n",
            "This is a new line of text.\n",
            "Line 1\n",
            "Line 2\n",
            "Line 3\n",
            "This is a new line of text.\n",
            "Line 1\n",
            "Line 2\n",
            "Line 3\n",
            "This is a new line of text.\n",
            "Line 1\n",
            "Line 2\n",
            "Line 3\n",
            "Line 1\n",
            "Line 2\n",
            "Line 3\n",
            "Line 1\n",
            "Line 2\n",
            "Line 3\n",
            "Line 1\n",
            "Line 2\n",
            "Line 3\n",
            "First appended line.\n",
            "Second appended line.\n",
            "First appended line.\n",
            "Second appended line.\n",
            "This is a new line of text.\n",
            "This is a new line of text.\n",
            "This is a new line of text.\n",
            "\n"
          ]
        }
      ]
    },
    {
      "cell_type": "markdown",
      "source": [
        "# 16.Demonstrate how to use memory profiling to check the memory usage of a small program?"
      ],
      "metadata": {
        "id": "_Q27jt6Obd2a"
      }
    },
    {
      "cell_type": "markdown",
      "source": [
        "# Step 1:Install memory_profiler"
      ],
      "metadata": {
        "id": "m7k-PUnucMtZ"
      }
    },
    {
      "cell_type": "code",
      "source": [
        "pip install memory-profiler\n"
      ],
      "metadata": {
        "colab": {
          "base_uri": "https://localhost:8080/"
        },
        "id": "vTE6aX0icXuh",
        "outputId": "954fdeaf-51c8-4fbf-958e-df8cbfdd1f6b"
      },
      "execution_count": 63,
      "outputs": [
        {
          "output_type": "stream",
          "name": "stdout",
          "text": [
            "Collecting memory-profiler\n",
            "  Downloading memory_profiler-0.61.0-py3-none-any.whl.metadata (20 kB)\n",
            "Requirement already satisfied: psutil in /usr/local/lib/python3.11/dist-packages (from memory-profiler) (5.9.5)\n",
            "Downloading memory_profiler-0.61.0-py3-none-any.whl (31 kB)\n",
            "Installing collected packages: memory-profiler\n",
            "Successfully installed memory-profiler-0.61.0\n"
          ]
        }
      ]
    },
    {
      "cell_type": "markdown",
      "source": [
        "# Step 2:Create a Small Python Program and Use the @profile Decorator"
      ],
      "metadata": {
        "id": "pmQKzkUjcgJQ"
      }
    },
    {
      "cell_type": "code",
      "source": [
        "from memory_profiler import profile\n",
        "\n",
        "@profile\n",
        "def my_function():\n",
        "    a = [i for i in range(100000)]\n",
        "    b = [i**2 for i in range(100000)]\n",
        "    del a\n",
        "    return b\n",
        "\n",
        "if __name__ == \"__main__\":\n",
        "    my_function()\n"
      ],
      "metadata": {
        "colab": {
          "base_uri": "https://localhost:8080/"
        },
        "id": "E7--4HvYcnW6",
        "outputId": "002ab43d-9371-4170-91f6-f337f47ce433"
      },
      "execution_count": 67,
      "outputs": [
        {
          "output_type": "stream",
          "name": "stdout",
          "text": [
            "ERROR: Could not find file <ipython-input-67-2726d7b84a2e>\n",
            "NOTE: %mprun can only be used on functions defined in physical files, and not in the IPython environment.\n"
          ]
        }
      ]
    },
    {
      "cell_type": "markdown",
      "source": [
        "# Step 3:Run the Program with Memory Profiling"
      ],
      "metadata": {
        "id": "gILWQZ_Ac6lT"
      }
    },
    {
      "cell_type": "code",
      "source": [
        "python -m memory_profiler your_script.py"
      ],
      "metadata": {
        "id": "_-Ex59ZJdBkJ"
      },
      "execution_count": 73,
      "outputs": []
    },
    {
      "cell_type": "markdown",
      "source": [
        "# Expected output"
      ],
      "metadata": {
        "id": "sxWZ_5txdsrT"
      }
    },
    {
      "cell_type": "code",
      "source": [
        "Line #    Mem usage    Increment   Line Contents\n",
        "================================================\n",
        "     3     12.6 MiB     12.6 MiB   @profile\n",
        "     4     14.0 MiB      1.4 MiB   def my_function():\n",
        "     5     15.0 MiB      1.0 MiB       a = [i for i in range(100000)]\n",
        "     6     16.3 MiB      1.3 MiB       b = [i**2 for i in range(100000)]\n",
        "     7     15.1 MiB     -1.2 MiB       del a\n",
        "     8     15.1 MiB      0.0 MiB       return b\n"
      ],
      "metadata": {
        "id": "R-SrcbJZd0iW"
      },
      "execution_count": null,
      "outputs": []
    },
    {
      "cell_type": "markdown",
      "source": [
        "# 17.Write a Python program to create and write a list of numbers to a file, one number per line?"
      ],
      "metadata": {
        "id": "9HrnsQ9OeDdB"
      }
    },
    {
      "cell_type": "code",
      "source": [
        "numbers = [1, 2, 3, 4, 5, 6, 7, 8, 9, 10]\n",
        "\n",
        "with open('numbers.txt', 'w') as file:\n",
        "    for number in numbers:\n",
        "        file.write(f\"{number}\\n\")\n",
        "\n",
        "print(\"Numbers have been written to 'numbers.txt'\")"
      ],
      "metadata": {
        "colab": {
          "base_uri": "https://localhost:8080/"
        },
        "id": "-cmo_71AeSyW",
        "outputId": "d8da60ee-4a7c-49b6-c446-2123ff711cf7"
      },
      "execution_count": 84,
      "outputs": [
        {
          "output_type": "stream",
          "name": "stdout",
          "text": [
            "Numbers have been written to 'numbers.txt'\n"
          ]
        }
      ]
    },
    {
      "cell_type": "markdown",
      "source": [
        "# 18.How would you implement a basic logging setup that logs to a file with rotation after 1MB?"
      ],
      "metadata": {
        "id": "CPaxjKKmfa3D"
      }
    },
    {
      "cell_type": "code",
      "source": [
        "import logging\n",
        "from logging.handlers import RotatingFileHandler\n",
        "\n",
        "log_file = 'app.log'\n",
        "max_log_size = 1 * 1024 * 1024\n",
        "backup_count = 3\n",
        "\n",
        "handler = RotatingFileHandler(log_file, maxBytes=max_log_size, backupCount=backup_count)\n",
        "\n",
        "formatter = logging.Formatter('%(asctime)s - %(name)s - %(levelname)s - %(message)s')\n",
        "handler.setFormatter(formatter)\n",
        "\n",
        "logger = logging.getLogger()\n",
        "logger.setLevel(logging.DEBUG)\n",
        "logger.addHandler(handler)\n",
        "\n",
        "logger.debug(\"This is a debug message\")\n",
        "logger.info(\"This is an info message\")\n",
        "logger.warning(\"This is a warning message\")\n",
        "logger.error(\"This is an error message\")\n",
        "logger.critical(\"This is a critical message\")\n",
        "\n",
        "print(\"Logging setup complete. Check the log file for entries.\")"
      ],
      "metadata": {
        "colab": {
          "base_uri": "https://localhost:8080/"
        },
        "id": "zPN4-d-Qfjda",
        "outputId": "395163f0-664d-4796-d5da-b54bba4dbc67"
      },
      "execution_count": 88,
      "outputs": [
        {
          "output_type": "stream",
          "name": "stderr",
          "text": [
            "DEBUG:root:This is a debug message\n",
            "INFO:root:This is an info message\n",
            "WARNING:root:This is a warning message\n",
            "ERROR:root:This is an error message\n",
            "CRITICAL:root:This is a critical message\n"
          ]
        },
        {
          "output_type": "stream",
          "name": "stdout",
          "text": [
            "Logging setup complete. Check the log file for entries.\n"
          ]
        }
      ]
    },
    {
      "cell_type": "markdown",
      "source": [
        "# 19.Write a program that handles both IndexError and KeyError using a try-except block?"
      ],
      "metadata": {
        "id": "IrgGydvZf8hE"
      }
    },
    {
      "cell_type": "code",
      "source": [
        "def handle_errors():\n",
        "    sample_list = [1, 2, 3]\n",
        "    sample_dict = {'a': 1, 'b': 2, 'c': 3}\n",
        "\n",
        "    try:\n",
        "\n",
        "        print(sample_list[5])\n",
        "\n",
        "        print(sample_dict['d'])\n",
        "\n",
        "    except IndexError as e:\n",
        "        print(f\"IndexError occurred: {e}\")\n",
        "\n",
        "    except KeyError as e:\n",
        "        print(f\"KeyError occurred: {e}\")\n",
        "\n",
        "    else:\n",
        "        print(\"No errors occurred.\")\n",
        "\n",
        "    finally:\n",
        "        print(\"Execution completed.\")\n",
        "\n",
        "handle_errors()"
      ],
      "metadata": {
        "colab": {
          "base_uri": "https://localhost:8080/"
        },
        "id": "XRdY-zf6gFIi",
        "outputId": "96c9e838-c829-4948-f158-a048e40e8895"
      },
      "execution_count": 90,
      "outputs": [
        {
          "output_type": "stream",
          "name": "stdout",
          "text": [
            "IndexError occurred: list index out of range\n",
            "Execution completed.\n"
          ]
        }
      ]
    },
    {
      "cell_type": "markdown",
      "source": [
        "# 20.How would you open a file and read its contents using a context manager in Python?"
      ],
      "metadata": {
        "id": "WlVpZ7PDgW62"
      }
    },
    {
      "cell_type": "code",
      "source": [
        "with open('example.txt', 'r') as file:\n",
        "    content = file.read()\n",
        "\n",
        "print(content)"
      ],
      "metadata": {
        "colab": {
          "base_uri": "https://localhost:8080/"
        },
        "id": "-RpeCzcvgcrY",
        "outputId": "60b25f63-9f40-480e-f7df-8ac03ff2cc29"
      },
      "execution_count": 92,
      "outputs": [
        {
          "output_type": "stream",
          "name": "stdout",
          "text": [
            "Hello, world!\n"
          ]
        }
      ]
    },
    {
      "cell_type": "markdown",
      "source": [
        "# 21.Write a Python program that reads a file and prints the number of occurrences of a specific word?"
      ],
      "metadata": {
        "id": "FWqYJNXQgrLZ"
      }
    },
    {
      "cell_type": "code",
      "source": [
        "def count_word_occurrences(filename, word):\n",
        "    try:\n",
        "        with open(filename, 'r') as file:\n",
        "            content = file.read()\n",
        "\n",
        "            word_count = content.lower().split().count(word.lower())\n",
        "\n",
        "        print(f\"The word '{word}' occurs {word_count} time(s) in the file '{filename}'.\")\n",
        "\n",
        "    except FileNotFoundError:\n",
        "        print(f\"The file '{filename}' does not exist.\")\n",
        "\n",
        "filename = 'example.txt'\n",
        "word = 'python'\n",
        "count_word_occurrences(filename, word)\n"
      ],
      "metadata": {
        "colab": {
          "base_uri": "https://localhost:8080/"
        },
        "id": "4TdPtPysgzEq",
        "outputId": "2df59f59-7c94-42d5-8708-d7856cbe89f1"
      },
      "execution_count": 93,
      "outputs": [
        {
          "output_type": "stream",
          "name": "stdout",
          "text": [
            "The word 'python' occurs 0 time(s) in the file 'example.txt'.\n"
          ]
        }
      ]
    },
    {
      "cell_type": "markdown",
      "source": [
        "# 22.How can you check if a file is empty before attempting to read its contents?"
      ],
      "metadata": {
        "id": "099lj1XphJ9z"
      }
    },
    {
      "cell_type": "markdown",
      "source": [
        "# Method 1:Using os.start():"
      ],
      "metadata": {
        "id": "_zd-LyAQhbdp"
      }
    },
    {
      "cell_type": "code",
      "source": [
        "import os\n",
        "\n",
        "filename = 'example.txt'\n",
        "\n",
        "# Check if the file is empty\n",
        "if os.path.exists(filename) and os.stat(filename).st_size == 0:\n",
        "    print(\"The file is empty.\")\n",
        "else:\n",
        "    with open(filename, 'r') as file:\n",
        "        content = file.read()\n",
        "        print(\"File contents:\\n\", content)\n"
      ],
      "metadata": {
        "id": "LR-CoG_Whkzz"
      },
      "execution_count": null,
      "outputs": []
    },
    {
      "cell_type": "markdown",
      "source": [
        "# Method 2:Read and check if content is empty"
      ],
      "metadata": {
        "id": "P0vALyKAhm4Q"
      }
    },
    {
      "cell_type": "code",
      "source": [
        "filename = 'example.txt'\n",
        "\n",
        "with open(filename, 'r') as file:\n",
        "    content = file.read()\n",
        "    if not content:\n",
        "        print(\"The file is empty.\")\n",
        "    else:\n",
        "        print(\"File contents:\\n\", content)\n"
      ],
      "metadata": {
        "id": "qf9zKRcoh5HR"
      },
      "execution_count": null,
      "outputs": []
    },
    {
      "cell_type": "markdown",
      "source": [
        "# Method 3:Check with peek()"
      ],
      "metadata": {
        "id": "WBmdZIfFh7Mx"
      }
    },
    {
      "cell_type": "code",
      "source": [
        "with open('example.txt', 'rb') as file:\n",
        "    if not file.peek(1):  # Will return empty bytes if file is empty\n",
        "        print(\"The file is empty.\")\n",
        "    else:\n",
        "        print(\"The file has content.\")\n"
      ],
      "metadata": {
        "id": "hjbrbmlMiD4l"
      },
      "execution_count": null,
      "outputs": []
    },
    {
      "cell_type": "markdown",
      "source": [
        "# 23.Write a Python program that writes to a log file when an error occurs during file handling?"
      ],
      "metadata": {
        "id": "wR42PVIxiRy8"
      }
    },
    {
      "cell_type": "code",
      "source": [
        "import logging\n",
        "\n",
        "logging.basicConfig(\n",
        "    filename='error_log.txt',\n",
        "    level=logging.ERROR,\n",
        "    format='%(asctime)s - %(levelname)s - %(message)s'\n",
        ")\n",
        "\n",
        "def read_file(filename):\n",
        "    try:\n",
        "        with open(filename, 'r') as file:\n",
        "            content = file.read()\n",
        "            print(\"File contents:\\n\", content)\n",
        "    except FileNotFoundError as e:\n",
        "        logging.error(f\"File not found: {filename} - {e}\")\n",
        "        print(\"Error: File not found.\")\n",
        "    except IOError as e:\n",
        "        logging.error(f\"I/O error while handling the file: {filename} - {e}\")\n",
        "        print(\"Error: I/O issue occurred while handling the file.\")\n",
        "    except Exception as e:\n",
        "        logging.error(f\"Unexpected error while reading the file: {filename} - {e}\")\n",
        "        print(\"An unexpected error occurred.\")\n",
        "\n",
        "read_file(\"example.txt\")"
      ],
      "metadata": {
        "colab": {
          "base_uri": "https://localhost:8080/"
        },
        "id": "UBGKZ3ISiVo6",
        "outputId": "ff7e8fb2-46c2-4842-a530-22ec36bbb2b4"
      },
      "execution_count": 94,
      "outputs": [
        {
          "output_type": "stream",
          "name": "stdout",
          "text": [
            "File contents:\n",
            " Hello, world!\n"
          ]
        }
      ]
    }
  ]
}